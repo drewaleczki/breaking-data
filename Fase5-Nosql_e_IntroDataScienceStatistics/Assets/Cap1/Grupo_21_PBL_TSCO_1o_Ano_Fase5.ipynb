{
 "cells": [
  {
   "cell_type": "markdown",
   "metadata": {},
   "source": [
    "## Inicialização"
   ]
  },
  {
   "cell_type": "code",
   "execution_count": 92,
   "metadata": {},
   "outputs": [],
   "source": [
    "# Carregando todas as bibliotecas\n",
    "import pandas as pd\n",
    "import seaborn as sns \n",
    "from matplotlib import pyplot as plt\n",
    "import numpy as np\n",
    "from math import factorial\n",
    "from scipy import stats"
   ]
  },
  {
   "cell_type": "markdown",
   "metadata": {},
   "source": [
    "## Carregue os dados"
   ]
  },
  {
   "cell_type": "code",
   "execution_count": 93,
   "metadata": {},
   "outputs": [],
   "source": [
    "# Carregue os arquivos de dados em diferentes DataFrames\n",
    "df1 = pd.read_csv('vendas_linha_petshop_2019.csv', encoding='utf-8', sep=';')\n",
    "df2 = pd.read_csv('vendas_linha_petshop_2020.csv', encoding='utf-8', sep=';')\n",
    "df3 = pd.read_csv('vendas_linha_petshop_2021.csv', encoding='utf-8', sep=';')\n",
    "df4 = pd.read_csv('vendas_linha_petshop_2022.csv', encoding='utf-8', sep=';')"
   ]
  },
  {
   "cell_type": "markdown",
   "metadata": {},
   "source": [
    "## Prepare os dados"
   ]
  },
  {
   "cell_type": "code",
   "execution_count": 94,
   "metadata": {},
   "outputs": [],
   "source": [
    "# Concatenando os DataFrames\n",
    "df = pd.concat([df1, df2, df3, df4], ignore_index=True)"
   ]
  },
  {
   "cell_type": "code",
   "execution_count": 95,
   "metadata": {},
   "outputs": [
    {
     "name": "stdout",
     "output_type": "stream",
     "text": [
      "<class 'pandas.core.frame.DataFrame'>\n",
      "RangeIndex: 200786 entries, 0 to 200785\n",
      "Data columns (total 14 columns):\n",
      " #   Column               Non-Null Count   Dtype \n",
      "---  ------               --------------   ----- \n",
      " 0   cod_pedido           200786 non-null  int64 \n",
      " 1   regiao_pais          200786 non-null  object\n",
      " 2   produto              200786 non-null  object\n",
      " 3   valor                200786 non-null  object\n",
      " 4   quantidade           200266 non-null  object\n",
      " 5   valor_total_bruto    200786 non-null  object\n",
      " 6   data                 200786 non-null  object\n",
      " 7   estado               200786 non-null  object\n",
      " 8   formapagto           200786 non-null  object\n",
      " 9   centro_distribuicao  200786 non-null  object\n",
      " 10  responsavelpedido    200786 non-null  object\n",
      " 11  valor_comissao       200786 non-null  object\n",
      " 12  lucro_liquido        200786 non-null  object\n",
      " 13  categoriaprod        200786 non-null  object\n",
      "dtypes: int64(1), object(13)\n",
      "memory usage: 21.4+ MB\n"
     ]
    }
   ],
   "source": [
    "# Imprima as informações gerais/resumidas sobre o DataFrame dos planos\n",
    "df.info()"
   ]
  },
  {
   "cell_type": "code",
   "execution_count": 96,
   "metadata": {},
   "outputs": [
    {
     "data": {
      "text/html": [
       "<div>\n",
       "<style scoped>\n",
       "    .dataframe tbody tr th:only-of-type {\n",
       "        vertical-align: middle;\n",
       "    }\n",
       "\n",
       "    .dataframe tbody tr th {\n",
       "        vertical-align: top;\n",
       "    }\n",
       "\n",
       "    .dataframe thead th {\n",
       "        text-align: right;\n",
       "    }\n",
       "</style>\n",
       "<table border=\"1\" class=\"dataframe\">\n",
       "  <thead>\n",
       "    <tr style=\"text-align: right;\">\n",
       "      <th></th>\n",
       "      <th>cod_pedido</th>\n",
       "      <th>regiao_pais</th>\n",
       "      <th>produto</th>\n",
       "      <th>valor</th>\n",
       "      <th>quantidade</th>\n",
       "      <th>valor_total_bruto</th>\n",
       "      <th>data</th>\n",
       "      <th>estado</th>\n",
       "      <th>formapagto</th>\n",
       "      <th>centro_distribuicao</th>\n",
       "      <th>responsavelpedido</th>\n",
       "      <th>valor_comissao</th>\n",
       "      <th>lucro_liquido</th>\n",
       "      <th>categoriaprod</th>\n",
       "    </tr>\n",
       "  </thead>\n",
       "  <tbody>\n",
       "    <tr>\n",
       "      <th>0</th>\n",
       "      <td>1</td>\n",
       "      <td>Norte</td>\n",
       "      <td>Biscoito  True Champion 300g</td>\n",
       "      <td>22</td>\n",
       "      <td>2.0</td>\n",
       "      <td>44</td>\n",
       "      <td>13/06/2019</td>\n",
       "      <td>Acre</td>\n",
       "      <td>Dinheiro</td>\n",
       "      <td>Rapid Pink</td>\n",
       "      <td>Carlos</td>\n",
       "      <td>0,44</td>\n",
       "      <td>17,6</td>\n",
       "      <td>Alimentação</td>\n",
       "    </tr>\n",
       "    <tr>\n",
       "      <th>1</th>\n",
       "      <td>2</td>\n",
       "      <td>Norte</td>\n",
       "      <td>Biscoito  True Champion 300g</td>\n",
       "      <td>21</td>\n",
       "      <td>2.0</td>\n",
       "      <td>42</td>\n",
       "      <td>03/01/2019</td>\n",
       "      <td>Amapá</td>\n",
       "      <td>Pix</td>\n",
       "      <td>Rapid Pink</td>\n",
       "      <td>Maria Linda</td>\n",
       "      <td>0,42</td>\n",
       "      <td>16,8</td>\n",
       "      <td>Alimentação</td>\n",
       "    </tr>\n",
       "    <tr>\n",
       "      <th>2</th>\n",
       "      <td>3</td>\n",
       "      <td>Norte</td>\n",
       "      <td>Biscoito  True Champion 300g</td>\n",
       "      <td>22</td>\n",
       "      <td>NaN</td>\n",
       "      <td>44</td>\n",
       "      <td>18/01/2019</td>\n",
       "      <td>Pará</td>\n",
       "      <td>Boleto Bancário</td>\n",
       "      <td>Rapid Pink</td>\n",
       "      <td>Julia</td>\n",
       "      <td>0,88</td>\n",
       "      <td>35,2</td>\n",
       "      <td>Alimentação</td>\n",
       "    </tr>\n",
       "    <tr>\n",
       "      <th>3</th>\n",
       "      <td>4</td>\n",
       "      <td>Norte</td>\n",
       "      <td>Biscoito  True Champion 300g</td>\n",
       "      <td>19</td>\n",
       "      <td>4.0</td>\n",
       "      <td>88</td>\n",
       "      <td>19/08/2019</td>\n",
       "      <td>Rondônia</td>\n",
       "      <td>Boleto Bancário</td>\n",
       "      <td>Rapid Pink</td>\n",
       "      <td>Yuri</td>\n",
       "      <td>0,76</td>\n",
       "      <td>30,4</td>\n",
       "      <td>Alimentação</td>\n",
       "    </tr>\n",
       "    <tr>\n",
       "      <th>4</th>\n",
       "      <td>5</td>\n",
       "      <td>Norte</td>\n",
       "      <td>Biscoito  True Champion 300g</td>\n",
       "      <td>22</td>\n",
       "      <td>2.0</td>\n",
       "      <td>44</td>\n",
       "      <td>18/10/2019</td>\n",
       "      <td>Tocantins</td>\n",
       "      <td>Cartão Crédito</td>\n",
       "      <td>Rapid Pink</td>\n",
       "      <td>Dolores</td>\n",
       "      <td>0,44</td>\n",
       "      <td>17,6</td>\n",
       "      <td>Alimentação</td>\n",
       "    </tr>\n",
       "  </tbody>\n",
       "</table>\n",
       "</div>"
      ],
      "text/plain": [
       "   cod_pedido regiao_pais                       produto valor quantidade  \\\n",
       "0           1       Norte  Biscoito  True Champion 300g    22        2.0   \n",
       "1           2       Norte  Biscoito  True Champion 300g    21        2.0   \n",
       "2           3       Norte  Biscoito  True Champion 300g    22        NaN   \n",
       "3           4       Norte  Biscoito  True Champion 300g    19        4.0   \n",
       "4           5       Norte  Biscoito  True Champion 300g    22        2.0   \n",
       "\n",
       "  valor_total_bruto        data     estado       formapagto  \\\n",
       "0                44  13/06/2019       Acre         Dinheiro   \n",
       "1                42  03/01/2019      Amapá              Pix   \n",
       "2                44  18/01/2019       Pará  Boleto Bancário   \n",
       "3                88  19/08/2019   Rondônia  Boleto Bancário   \n",
       "4                44  18/10/2019  Tocantins   Cartão Crédito   \n",
       "\n",
       "  centro_distribuicao responsavelpedido valor_comissao lucro_liquido  \\\n",
       "0          Rapid Pink            Carlos           0,44          17,6   \n",
       "1          Rapid Pink       Maria Linda           0,42          16,8   \n",
       "2          Rapid Pink             Julia           0,88          35,2   \n",
       "3          Rapid Pink              Yuri           0,76          30,4   \n",
       "4          Rapid Pink           Dolores           0,44          17,6   \n",
       "\n",
       "  categoriaprod  \n",
       "0   Alimentação  \n",
       "1   Alimentação  \n",
       "2   Alimentação  \n",
       "3   Alimentação  \n",
       "4   Alimentação  "
      ]
     },
     "execution_count": 96,
     "metadata": {},
     "output_type": "execute_result"
    }
   ],
   "source": [
    "# Imprima uma amostra de dados dos planos\n",
    "df.head()"
   ]
  },
  {
   "cell_type": "markdown",
   "metadata": {},
   "source": [
    "## Corrija os dados"
   ]
  },
  {
   "cell_type": "code",
   "execution_count": 97,
   "metadata": {},
   "outputs": [],
   "source": [
    "# Remove colunas que têm todos os valores NaN ou em falta\n",
    "df.dropna(inplace=True)"
   ]
  },
  {
   "cell_type": "code",
   "execution_count": 98,
   "metadata": {},
   "outputs": [
    {
     "name": "stdout",
     "output_type": "stream",
     "text": [
      "os valores duplicados são: 0\n",
      "\n",
      "Empty DataFrame\n",
      "Columns: [cod_pedido, regiao_pais, produto, valor, quantidade, valor_total_bruto, data, estado, formapagto, centro_distribuicao, responsavelpedido, valor_comissao, lucro_liquido, categoriaprod]\n",
      "Index: []\n"
     ]
    }
   ],
   "source": [
    "#Verificando se há linhas completamente duplicadas\n",
    "print(\"os valores duplicados são:\", df.duplicated().sum())\n",
    "print()\n",
    "print(df[df.duplicated()])"
   ]
  },
  {
   "cell_type": "markdown",
   "metadata": {},
   "source": [
    "## Ajustar Tipos de Dados"
   ]
  },
  {
   "cell_type": "code",
   "execution_count": 99,
   "metadata": {},
   "outputs": [
    {
     "name": "stdout",
     "output_type": "stream",
     "text": [
      "cod_pedido               int64\n",
      "regiao_pais             object\n",
      "produto                 object\n",
      "valor                  float64\n",
      "quantidade             float64\n",
      "valor_total_bruto      float64\n",
      "data                    object\n",
      "estado                  object\n",
      "formapagto              object\n",
      "centro_distribuicao     object\n",
      "responsavelpedido       object\n",
      "valor_comissao         float64\n",
      "lucro_liquido          float64\n",
      "categoriaprod           object\n",
      "dtype: object\n"
     ]
    }
   ],
   "source": [
    "# Convertendo colunas numéricas para float\n",
    "cols_numericas = ['valor', 'quantidade', 'valor_total_bruto', 'valor_comissao', 'lucro_liquido']\n",
    "\n",
    "for col in cols_numericas:\n",
    "    df[col] = pd.to_numeric(df[col], errors='coerce')\n",
    "\n",
    "# Verificando se as conversões foram bem-sucedidas\n",
    "print(df.dtypes)"
   ]
  },
  {
   "cell_type": "code",
   "execution_count": 100,
   "metadata": {},
   "outputs": [],
   "source": [
    "# Resetando o índice após remover linhas\n",
    "df.reset_index(drop=True, inplace=True)"
   ]
  },
  {
   "cell_type": "code",
   "execution_count": 101,
   "metadata": {},
   "outputs": [
    {
     "name": "stdout",
     "output_type": "stream",
     "text": [
      "<class 'pandas.core.frame.DataFrame'>\n",
      "RangeIndex: 200266 entries, 0 to 200265\n",
      "Data columns (total 14 columns):\n",
      " #   Column               Non-Null Count   Dtype  \n",
      "---  ------               --------------   -----  \n",
      " 0   cod_pedido           200266 non-null  int64  \n",
      " 1   regiao_pais          200266 non-null  object \n",
      " 2   produto              200266 non-null  object \n",
      " 3   valor                51747 non-null   float64\n",
      " 4   quantidade           200119 non-null  float64\n",
      " 5   valor_total_bruto    52350 non-null   float64\n",
      " 6   data                 200266 non-null  object \n",
      " 7   estado               200266 non-null  object \n",
      " 8   formapagto           200266 non-null  object \n",
      " 9   centro_distribuicao  200266 non-null  object \n",
      " 10  responsavelpedido    200266 non-null  object \n",
      " 11  valor_comissao       2256 non-null    float64\n",
      " 12  lucro_liquido        36846 non-null   float64\n",
      " 13  categoriaprod        200266 non-null  object \n",
      "dtypes: float64(5), int64(1), object(8)\n",
      "memory usage: 21.4+ MB\n"
     ]
    }
   ],
   "source": [
    "df.info()"
   ]
  },
  {
   "cell_type": "markdown",
   "metadata": {},
   "source": [
    "## Encontrando os outliers na coluna quantidade"
   ]
  },
  {
   "cell_type": "code",
   "execution_count": 102,
   "metadata": {},
   "outputs": [
    {
     "name": "stdout",
     "output_type": "stream",
     "text": [
      "Número de outliers na coluna 'quantidade': 11283\n"
     ]
    }
   ],
   "source": [
    "# Definir os limites de outliers usando o método do IQR\n",
    "Q1 = df['quantidade'].quantile(0.25)  # Primeiro quartil\n",
    "Q3 = df['quantidade'].quantile(0.75)  # Terceiro quartil\n",
    "IQR = Q3 - Q1  # Intervalo interquartil\n",
    "\n",
    "# Definir limites para outliers\n",
    "limite_inferior = Q1 - 1.5 * IQR\n",
    "limite_superior = Q3 + 1.5 * IQR\n",
    "\n",
    "# Filtrar os outliers\n",
    "outliers = df[(df['quantidade'] < limite_inferior) | (df['quantidade'] > limite_superior)]\n",
    "\n",
    "# Exibir a quantidade de outliers encontrados\n",
    "print(f\"Número de outliers na coluna 'quantidade': {len(outliers)}\")"
   ]
  },
  {
   "cell_type": "markdown",
   "metadata": {},
   "source": [
    "## Analisando o impacto dos outliers nas vendas"
   ]
  },
  {
   "cell_type": "code",
   "execution_count": 103,
   "metadata": {},
   "outputs": [
    {
     "name": "stdout",
     "output_type": "stream",
     "text": [
      "Média das vendas (com outliers): 568.16\n",
      "Média das vendas (sem outliers): 319.91\n"
     ]
    }
   ],
   "source": [
    "# Média das vendas com outliers\n",
    "media_com_outliers = df['valor_total_bruto'].mean()\n",
    "\n",
    "# Criar um DataFrame sem os outliers\n",
    "df_sem_outliers = df[(df['quantidade'] >= limite_inferior) & (df['quantidade'] <= limite_superior)]\n",
    "\n",
    "# Média das vendas sem outliers\n",
    "media_sem_outliers = df_sem_outliers['valor_total_bruto'].mean()\n",
    "\n",
    "print(f\"Média das vendas (com outliers): {media_com_outliers:.2f}\")\n",
    "print(f\"Média das vendas (sem outliers): {media_sem_outliers:.2f}\")"
   ]
  },
  {
   "cell_type": "markdown",
   "metadata": {},
   "source": [
    "## Calculando a Variabilidade dos Dados Ignorando os Outliers"
   ]
  },
  {
   "cell_type": "code",
   "execution_count": 104,
   "metadata": {},
   "outputs": [
    {
     "name": "stdout",
     "output_type": "stream",
     "text": [
      "Desvio padrão das vendas (sem outliers): 19789.14\n",
      "Coeficiente de variação (sem outliers): 6185.84%\n",
      "Amplitude interquartil (IQR) das vendas (sem outliers): 62.00\n"
     ]
    }
   ],
   "source": [
    "# Desvio padrão das vendas sem outliers\n",
    "desvio_padrao = df_sem_outliers['valor_total_bruto'].std()\n",
    "\n",
    "# Coeficiente de variação (CV) = Desvio padrão / Média\n",
    "cv = desvio_padrao / df_sem_outliers['valor_total_bruto'].mean()\n",
    "\n",
    "# Amplitude interquartil (IQR)\n",
    "Q1_sem = df_sem_outliers['valor_total_bruto'].quantile(0.25)\n",
    "Q3_sem = df_sem_outliers['valor_total_bruto'].quantile(0.75)\n",
    "IQR_sem = Q3_sem - Q1_sem\n",
    "\n",
    "# Exibir os resultados\n",
    "print(f\"Desvio padrão das vendas (sem outliers): {desvio_padrao:.2f}\")\n",
    "print(f\"Coeficiente de variação (sem outliers): {cv:.2%}\")\n",
    "print(f\"Amplitude interquartil (IQR) das vendas (sem outliers): {IQR_sem:.2f}\")"
   ]
  },
  {
   "cell_type": "markdown",
   "metadata": {},
   "source": [
    "## Teste de Hipótese: Média de Preços por Região vs. Média Geral"
   ]
  },
  {
   "cell_type": "code",
   "execution_count": 105,
   "metadata": {},
   "outputs": [],
   "source": [
    "# Remover valores NaN na coluna 'valor'\n",
    "df_sem_outliers = df_sem_outliers.dropna(subset=['valor'])\n",
    "\n",
    "# Média geral dos preços\n",
    "media_geral = df_sem_outliers['valor'].mean()"
   ]
  },
  {
   "cell_type": "markdown",
   "metadata": {},
   "source": [
    "### Hipóteses:\n",
    "\n",
    "H₀ (Hipótese Nula): A média dos preços em cada região é igual à média geral.\n",
    "\n",
    "H₁ (Hipótese Alternativa): A média dos preços em pelo menos uma região é diferente da média geral.\n",
    "\n",
    "### teste t por região"
   ]
  },
  {
   "cell_type": "code",
   "execution_count": 106,
   "metadata": {},
   "outputs": [
    {
     "name": "stdout",
     "output_type": "stream",
     "text": [
      "Região: Centro Oeste | p-valor: 0.74499 | Não rejeita H₀ (sem diferença significativa)\n",
      "Região: Nordeste | p-valor: 0.81259 | Não rejeita H₀ (sem diferença significativa)\n",
      "Região: Norte | p-valor: 0.99952 | Não rejeita H₀ (sem diferença significativa)\n",
      "Região: Sudeste | p-valor: 0.79856 | Não rejeita H₀ (sem diferença significativa)\n",
      "Região: Sul | p-valor: 0.77760 | Não rejeita H₀ (sem diferença significativa)\n"
     ]
    }
   ],
   "source": [
    "# Média geral dos preços\n",
    "media_geral = df_sem_outliers['valor'].mean()\n",
    "\n",
    "# Criar um dicionário para armazenar os resultados por região\n",
    "resultados_regiao = {}\n",
    "\n",
    "for regiao, grupo in df_sem_outliers.groupby('regiao_pais'):\n",
    "    stat, p_value = stats.ttest_1samp(grupo['valor'], media_geral)\n",
    "    resultados_regiao[regiao] = p_value\n",
    "\n",
    "# Exibir os resultados\n",
    "for regiao, p in resultados_regiao.items():\n",
    "    resultado = \"Rejeita H₀ (diferença significativa)\" if p < 0.05 else \"Não rejeita H₀ (sem diferença significativa)\"\n",
    "    print(f\"Região: {regiao} | p-valor: {p:.5f} | {resultado}\")"
   ]
  },
  {
   "cell_type": "markdown",
   "metadata": {},
   "source": [
    "## Teste de Hipótese: Média de Preços por Forma de Pagamento vs. Média Geral"
   ]
  },
  {
   "cell_type": "markdown",
   "metadata": {},
   "source": [
    "### Hipóteses:\n",
    "\n",
    "H₀ (Hipótese Nula): A média dos preços em cada forma de pagamento é igual à média geral.\n",
    "\n",
    "H₁ (Hipótese Alternativa): A média dos preços em pelo menos uma forma de pagamento é diferente da média geral.\n",
    "\n",
    "### teste t por forma de pagamento"
   ]
  },
  {
   "cell_type": "code",
   "execution_count": 107,
   "metadata": {},
   "outputs": [
    {
     "name": "stdout",
     "output_type": "stream",
     "text": [
      "Forma de Pagamento: Boleto Bancário | p-valor: 0.82469 | Não rejeita H₀ (sem diferença significativa)\n",
      "Forma de Pagamento: Cartão Crédito | p-valor: 0.25028 | Não rejeita H₀ (sem diferença significativa)\n",
      "Forma de Pagamento: Cartão Débito | p-valor: 0.38563 | Não rejeita H₀ (sem diferença significativa)\n",
      "Forma de Pagamento: Dinheiro | p-valor: 0.38570 | Não rejeita H₀ (sem diferença significativa)\n",
      "Forma de Pagamento: Pix | p-valor: 0.68952 | Não rejeita H₀ (sem diferença significativa)\n"
     ]
    }
   ],
   "source": [
    "# Criar um dicionário para armazenar os resultados por forma de pagamento\n",
    "resultados_pagamento = {}\n",
    "\n",
    "for pagamento, grupo in df_sem_outliers.groupby('formapagto'):\n",
    "    stat, p_value = stats.ttest_1samp(grupo['valor'], media_geral)\n",
    "    resultados_pagamento[pagamento] = p_value\n",
    "\n",
    "# Exibir os resultados\n",
    "for pagamento, p in resultados_pagamento.items():\n",
    "    resultado = \"Rejeita H₀ (diferença significativa)\" if p < 0.05 else \"Não rejeita H₀ (sem diferença significativa)\"\n",
    "    print(f\"Forma de Pagamento: {pagamento} | p-valor: {p:.5f} | {resultado}\")"
   ]
  },
  {
   "cell_type": "markdown",
   "metadata": {},
   "source": [
    "### Interpretação dos Resultados\n",
    "Se p < 0.05, rejeitamos a hipótese nula e concluímos que a média do grupo é significativamente diferente da média geral.\n",
    "\n",
    "Se p ≥ 0.05, não há diferença estatisticamente significativa."
   ]
  },
  {
   "cell_type": "markdown",
   "metadata": {},
   "source": [
    "## Calculando a Matriz de Correlação"
   ]
  },
  {
   "cell_type": "code",
   "execution_count": 108,
   "metadata": {},
   "outputs": [
    {
     "name": "stdout",
     "output_type": "stream",
     "text": [
      "                      valor  quantidade  valor_total_bruto  valor_comissao  \\\n",
      "valor              1.000000   -0.114768           0.042358        0.935674   \n",
      "quantidade        -0.114768    1.000000           0.002573       -0.057014   \n",
      "valor_total_bruto  0.042358    0.002573           1.000000        0.898261   \n",
      "valor_comissao     0.935674   -0.057014           0.898261        1.000000   \n",
      "lucro_liquido      0.760086    0.243796           0.026457        0.740181   \n",
      "\n",
      "                   lucro_liquido  \n",
      "valor                   0.760086  \n",
      "quantidade              0.243796  \n",
      "valor_total_bruto       0.026457  \n",
      "valor_comissao          0.740181  \n",
      "lucro_liquido           1.000000  \n"
     ]
    }
   ],
   "source": [
    "# Selecionando apenas colunas numéricas para calcular a correlação\n",
    "correlacao = df_sem_outliers[['valor', 'quantidade', 'valor_total_bruto', 'valor_comissao', 'lucro_liquido']].corr()\n",
    "\n",
    "# Exibir a matriz de correlação\n",
    "print(correlacao)"
   ]
  },
  {
   "cell_type": "code",
   "execution_count": 109,
   "metadata": {},
   "outputs": [
    {
     "data": {
      "image/png": "[encoded data removed]",
      "text/plain": [
       "<Figure size 800x600 with 2 Axes>"
      ]
     },
     "metadata": {},
     "output_type": "display_data"
    }
   ],
   "source": [
    "# Criar uma figura para o heatmap\n",
    "plt.figure(figsize=(8, 6))\n",
    "\n",
    "# Criar o mapa de calor da matriz de correlação\n",
    "sns.heatmap(correlacao, annot=True, cmap='coolwarm', fmt=\".2f\", linewidths=0.5)\n",
    "\n",
    "# Adicionar título ao gráfico\n",
    "plt.title('Matriz de Correlação das Variáveis')\n",
    "\n",
    "# Salvar a imagem\n",
    "plt.savefig('matriz_correlacao.png')\n",
    "\n",
    "# Exibir o gráfico\n",
    "plt.show()"
   ]
  },
  {
   "cell_type": "markdown",
   "metadata": {},
   "source": [
    "### Principais Observações:\n",
    "Correlação alta entre valor e valor_comissao (0.94)\n",
    "\n",
    "Isso sugere que a comissão é fortemente influenciada pelo valor do produto. Quanto mais caro o produto, maior a comissão.\n",
    "Correlação alta entre valor_total_bruto e valor_comissao (0.90)\n",
    "\n",
    "Indica que o total bruto de vendas está intimamente ligado à comissão paga.\n",
    "Correlação moderada entre lucro_liquido e valor (0.76)\n",
    "\n",
    "Produtos mais caros tendem a gerar mais lucro líquido, mas essa relação não é perfeita.\n",
    "Correlação baixa entre quantidade e lucro_liquido (0.24)\n",
    "\n",
    "Sugere que vender mais unidades nem sempre se traduz em mais lucro, o que pode indicar variações de margem de lucro entre os produtos.\n",
    "Correlação praticamente nula entre quantidade e valor_total_bruto (-0.00)\n",
    "\n",
    "Isso pode significar que o total bruto de vendas não depende muito do número de unidades vendidas, mas sim do preço individual dos produtos."
   ]
  },
  {
   "cell_type": "markdown",
   "metadata": {},
   "source": [
    "## Conclusão\n",
    "\n",
    "Concatenamos os dataframes;\n",
    "\n",
    "Dropamos as linhas com valores ausentes e NaN;\n",
    "\n",
    "Corrijimos os Datatypes;\n",
    "\n",
    "Conferimos se havia linhas duplicadas;\n",
    "\n",
    "Separamos as outliers;\n",
    "\n",
    "Realizamos os t-tests;\n",
    "\n",
    "Realizamos a matriz de correlação;\n",
    "\n",
    "### Respondendo as perguntas sobre python que foram colocadas no capítulo 1\n",
    "Analise os dados na perspectiva da coluna quantidade. Existem outliers nos dados disponibilizados? É possível identificar algo em relação às vendas associadas a estes outliers? Justifique sua resposta. Calcule uma estimativa de variabilidade que ignore o efeito desses outliers.\n",
    "\n",
    "Sim, há 11283 outliers nos dados disponibilizados. Sim, é possível identificar algo em relação às vendas associadas aos outliers, com os outliers a média das vendas sobe para 568.16 enquanto a média das vendas sem os outliers é de 319.91, para calcular essa média usamos a coluna valor_total_bruto. Aqui está uma estimativa de variabilidade que ignore o efeito desses outliers\n",
    "\n",
    "Desvio padrão das vendas (sem outliers): 19789.14\n",
    "Coeficiente de variação (sem outliers): 6185.84%\n",
    "Amplitude interquartil (IQR) das vendas (sem outliers): 62.00\n",
    "\n",
    "Em relação à média de preço, há diferença estatisticamente significativa entre a média de preço de alguma região e a média da população? E em relação à média de preço de alguma modalidade de pagamento e à média da população? Justifique a hipótese.\n",
    "\n",
    "Não há diferença estatisticamente significativa entre a média de preço de qualquer região e a média da população, Isso significa que não há evidências estatísticas suficientes para afirmar que a média de preços de alguma região é diferente da média geral, ou seja, não devemos rejeitar a hipótese nula, A média dos preços em cada região é igual à média geral.\n",
    "\n",
    "Calcule a matriz de correlação dos dados fornecidos. Quais as variáveis que apresentam forte correlação positiva ou negativa? Acrescente a matriz de correlação como uma imagem e anexe-a ao seu relatório.\n",
    "\n",
    "Essa resposta estará 2 markdowns acima "
   ]
  }
 ],
 "metadata": {
  "kernelspec": {
   "display_name": "Python 3",
   "language": "python",
   "name": "python3"
  },
  "language_info": {
   "codemirror_mode": {
    "name": "ipython",
    "version": 3
   },
   "file_extension": ".py",
   "mimetype": "text/x-python",
   "name": "python",
   "nbconvert_exporter": "python",
   "pygments_lexer": "ipython3",
   "version": "3.11.3"
  }
 },
 "nbformat": 4,
 "nbformat_minor": 2
}
