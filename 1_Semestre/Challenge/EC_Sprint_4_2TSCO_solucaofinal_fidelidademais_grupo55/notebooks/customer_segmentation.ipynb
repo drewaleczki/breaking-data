{
 "cells": [
  {
   "cell_type": "code",
   "execution_count": 1,
   "id": "e3dba413",
   "metadata": {},
   "outputs": [
    {
     "name": "stderr",
     "output_type": "stream",
     "text": [
      "c:\\Users\\henri\\AppData\\Local\\Programs\\Python\\Python311\\Lib\\site-packages\\airflow\\__init__.py:45: RuntimeWarning: Airflow currently can be run on POSIX-compliant Operating Systems. For development, it is regularly tested on fairly modern Linux Distros and recent versions of macOS. On Windows you can run it via WSL2 (Windows Subsystem for Linux 2) or via Linux Containers. The work to add Windows support is tracked via https://github.com/apache/airflow/issues/10388, but it is not a high priority.\n",
      "  warnings.warn(\n"
     ]
    },
    {
     "ename": "AttributeError",
     "evalue": "module 'os' has no attribute 'register_at_fork'",
     "output_type": "error",
     "traceback": [
      "\u001b[1;31m---------------------------------------------------------------------------\u001b[0m",
      "\u001b[1;31mAttributeError\u001b[0m                            Traceback (most recent call last)",
      "Cell \u001b[1;32mIn[1], line 9\u001b[0m\n\u001b[0;32m      7\u001b[0m \u001b[38;5;28;01mfrom\u001b[39;00m \u001b[38;5;21;01msqlalchemy\u001b[39;00m \u001b[38;5;28;01mimport\u001b[39;00m create_engine\n\u001b[0;32m      8\u001b[0m \u001b[38;5;28;01mimport\u001b[39;00m \u001b[38;5;21;01mio\u001b[39;00m\n\u001b[1;32m----> 9\u001b[0m \u001b[38;5;28;01mfrom\u001b[39;00m \u001b[38;5;21;01mairflow\u001b[39;00m \u001b[38;5;28;01mimport\u001b[39;00m DAG\n\u001b[0;32m     10\u001b[0m \u001b[38;5;28;01mfrom\u001b[39;00m \u001b[38;5;21;01mairflow\u001b[39;00m\u001b[38;5;21;01m.\u001b[39;00m\u001b[38;5;21;01moperators\u001b[39;00m\u001b[38;5;21;01m.\u001b[39;00m\u001b[38;5;21;01mpython_operator\u001b[39;00m \u001b[38;5;28;01mimport\u001b[39;00m PythonOperator\n\u001b[0;32m     11\u001b[0m \u001b[38;5;28;01mfrom\u001b[39;00m \u001b[38;5;21;01mairflow\u001b[39;00m\u001b[38;5;21;01m.\u001b[39;00m\u001b[38;5;21;01moperators\u001b[39;00m\u001b[38;5;21;01m.\u001b[39;00m\u001b[38;5;21;01memail_operator\u001b[39;00m \u001b[38;5;28;01mimport\u001b[39;00m EmailOperator\n",
      "File \u001b[1;32mc:\\Users\\henri\\AppData\\Local\\Programs\\Python\\Python311\\Lib\\site-packages\\airflow\\__init__.py:79\u001b[0m\n\u001b[0;32m     73\u001b[0m \u001b[38;5;66;03m# Perform side-effects unless someone has explicitly opted out before import\u001b[39;00m\n\u001b[0;32m     74\u001b[0m \u001b[38;5;66;03m# WARNING: DO NOT USE THIS UNLESS YOU REALLY KNOW WHAT YOU'RE DOING.\u001b[39;00m\n\u001b[0;32m     75\u001b[0m \u001b[38;5;66;03m# This environment variable prevents proper initialization, and things like\u001b[39;00m\n\u001b[0;32m     76\u001b[0m \u001b[38;5;66;03m# configs, logging, the ORM, etc. will be broken. It is only useful if you only\u001b[39;00m\n\u001b[0;32m     77\u001b[0m \u001b[38;5;66;03m# access certain trivial constants and free functions (e.g. `__version__`).\u001b[39;00m\n\u001b[0;32m     78\u001b[0m \u001b[38;5;28;01mif\u001b[39;00m \u001b[38;5;129;01mnot\u001b[39;00m os\u001b[38;5;241m.\u001b[39menviron\u001b[38;5;241m.\u001b[39mget(\u001b[38;5;124m\"\u001b[39m\u001b[38;5;124m_AIRFLOW__AS_LIBRARY\u001b[39m\u001b[38;5;124m\"\u001b[39m, \u001b[38;5;28;01mNone\u001b[39;00m):\n\u001b[1;32m---> 79\u001b[0m     \u001b[43msettings\u001b[49m\u001b[38;5;241;43m.\u001b[39;49m\u001b[43minitialize\u001b[49m\u001b[43m(\u001b[49m\u001b[43m)\u001b[49m\n\u001b[0;32m     81\u001b[0m \u001b[38;5;66;03m# Things to lazy import in form {local_name: ('target_module', 'target_name', 'deprecated')}\u001b[39;00m\n\u001b[0;32m     82\u001b[0m __lazy_imports: \u001b[38;5;28mdict\u001b[39m[\u001b[38;5;28mstr\u001b[39m, \u001b[38;5;28mtuple\u001b[39m[\u001b[38;5;28mstr\u001b[39m, \u001b[38;5;28mstr\u001b[39m, \u001b[38;5;28mbool\u001b[39m]] \u001b[38;5;241m=\u001b[39m {\n\u001b[0;32m     83\u001b[0m     \u001b[38;5;124m\"\u001b[39m\u001b[38;5;124mDAG\u001b[39m\u001b[38;5;124m\"\u001b[39m: (\u001b[38;5;124m\"\u001b[39m\u001b[38;5;124m.models.dag\u001b[39m\u001b[38;5;124m\"\u001b[39m, \u001b[38;5;124m\"\u001b[39m\u001b[38;5;124mDAG\u001b[39m\u001b[38;5;124m\"\u001b[39m, \u001b[38;5;28;01mFalse\u001b[39;00m),\n\u001b[0;32m     84\u001b[0m     \u001b[38;5;124m\"\u001b[39m\u001b[38;5;124mAsset\u001b[39m\u001b[38;5;124m\"\u001b[39m: (\u001b[38;5;124m\"\u001b[39m\u001b[38;5;124m.assets\u001b[39m\u001b[38;5;124m\"\u001b[39m, \u001b[38;5;124m\"\u001b[39m\u001b[38;5;124mAsset\u001b[39m\u001b[38;5;124m\"\u001b[39m, \u001b[38;5;28;01mFalse\u001b[39;00m),\n\u001b[1;32m   (...)\u001b[0m\n\u001b[0;32m     89\u001b[0m     \u001b[38;5;124m\"\u001b[39m\u001b[38;5;124mDataset\u001b[39m\u001b[38;5;124m\"\u001b[39m: (\u001b[38;5;124m\"\u001b[39m\u001b[38;5;124m.sdk.definitions.asset\u001b[39m\u001b[38;5;124m\"\u001b[39m, \u001b[38;5;124m\"\u001b[39m\u001b[38;5;124mDataset\u001b[39m\u001b[38;5;124m\"\u001b[39m, \u001b[38;5;28;01mTrue\u001b[39;00m),\n\u001b[0;32m     90\u001b[0m }\n",
      "File \u001b[1;32mc:\\Users\\henri\\AppData\\Local\\Programs\\Python\\Python311\\Lib\\site-packages\\airflow\\settings.py:623\u001b[0m, in \u001b[0;36minitialize\u001b[1;34m()\u001b[0m\n\u001b[0;32m    620\u001b[0m \u001b[38;5;66;03m# The webservers import this file from models.py with the default settings.\u001b[39;00m\n\u001b[0;32m    622\u001b[0m \u001b[38;5;28;01mif\u001b[39;00m \u001b[38;5;129;01mnot\u001b[39;00m os\u001b[38;5;241m.\u001b[39menviron\u001b[38;5;241m.\u001b[39mget(\u001b[38;5;124m\"\u001b[39m\u001b[38;5;124mPYTHON_OPERATORS_VIRTUAL_ENV_MODE\u001b[39m\u001b[38;5;124m\"\u001b[39m, \u001b[38;5;28;01mNone\u001b[39;00m):\n\u001b[1;32m--> 623\u001b[0m     \u001b[43mconfigure_orm\u001b[49m\u001b[43m(\u001b[49m\u001b[43m)\u001b[49m\n\u001b[0;32m    624\u001b[0m configure_action_logging()\n\u001b[0;32m    626\u001b[0m \u001b[38;5;66;03m# mask the sensitive_config_values\u001b[39;00m\n",
      "File \u001b[1;32mc:\\Users\\henri\\AppData\\Local\\Programs\\Python\\Python311\\Lib\\site-packages\\airflow\\settings.py:395\u001b[0m, in \u001b[0;36mconfigure_orm\u001b[1;34m(disable_connection_pool, pool_class)\u001b[0m\n\u001b[0;32m    392\u001b[0m     \u001b[38;5;28;01mif\u001b[39;00m async_engine \u001b[38;5;241m:=\u001b[39m _globals\u001b[38;5;241m.\u001b[39mget(\u001b[38;5;124m\"\u001b[39m\u001b[38;5;124masync_engine\u001b[39m\u001b[38;5;124m\"\u001b[39m):\n\u001b[0;32m    393\u001b[0m         async_engine\u001b[38;5;241m.\u001b[39msync_engine\u001b[38;5;241m.\u001b[39mdispose(close\u001b[38;5;241m=\u001b[39m\u001b[38;5;28;01mFalse\u001b[39;00m)\n\u001b[1;32m--> 395\u001b[0m \u001b[43mos\u001b[49m\u001b[38;5;241;43m.\u001b[39;49m\u001b[43mregister_at_fork\u001b[49m(after_in_child\u001b[38;5;241m=\u001b[39mclean_in_fork)\n",
      "\u001b[1;31mAttributeError\u001b[0m: module 'os' has no attribute 'register_at_fork'"
     ]
    }
   ],
   "source": [
    "# customer_segmentation.py\n",
    "import psycopg2\n",
    "import pandas as pd\n",
    "from sklearn.cluster import KMeans\n",
    "from sklearn.preprocessing import StandardScaler\n",
    "import joblib\n",
    "from sqlalchemy import create_engine\n",
    "import io\n",
    "from airflow import DAG\n",
    "from airflow.operators.python_operator import PythonOperator\n",
    "from airflow.operators.email_operator import EmailOperator\n",
    "from datetime import datetime, timedelta"
   ]
  },
  {
   "cell_type": "markdown",
   "id": "2e2a98fd",
   "metadata": {},
   "source": [
    "# Conectando com o Banco de Dados"
   ]
  },
  {
   "cell_type": "code",
   "execution_count": null,
   "id": "08c2de45",
   "metadata": {},
   "outputs": [
    {
     "name": "stdout",
     "output_type": "stream",
     "text": [
      "('PostgreSQL 17.4 on aarch64-unknown-linux-gnu, compiled by gcc (GCC) 12.4.0, 64-bit',)\n"
     ]
    }
   ],
   "source": [
    "conn = psycopg2.connect(\n",
    "    host=\"fidelidademaisibm.cb4g0aguevt3.us-east-2.rds.amazonaws.com\",\n",
    "    database=\"ibm\",\n",
    "    user=\"thiago\",\n",
    "    password=\"ibmteste\",\n",
    "    port=5432\n",
    ")\n",
    "\n",
    "cursor = conn.cursor()\n",
    "cursor.execute(\"SELECT version();\")\n",
    "print(cursor.fetchone())"
   ]
  },
  {
   "cell_type": "markdown",
   "id": "4543363f",
   "metadata": {},
   "source": [
    "# Listando Todas as Tabelas e Suas Colunas"
   ]
  },
  {
   "cell_type": "code",
   "execution_count": null,
   "id": "ec69f9b9",
   "metadata": {},
   "outputs": [
    {
     "name": "stdout",
     "output_type": "stream",
     "text": [
      "Tabelas disponíveis:\n",
      "ibm_rfm\n",
      "ibm_familia\n",
      "ibm_grupo\n",
      "ibm_grupo_marca\n",
      "ibm_marca\n",
      "ibm_produto\n",
      "ibm_itens\n",
      "ibm_linha\n",
      "ibm_linha_subgrupo\n",
      "ibm_subgrupo\n",
      "ibm_cliente\n",
      "nota_fiscal\n",
      "ibm_operacao\n",
      "ibm_vendedor\n",
      "modelos_ml\n"
     ]
    }
   ],
   "source": [
    "cursor.execute(\"\"\"\n",
    "    SELECT table_name\n",
    "    FROM information_schema.tables\n",
    "    WHERE table_schema = 'public'\n",
    "\"\"\")\n",
    "tables = cursor.fetchall()\n",
    "print(\"Tabelas disponíveis:\")\n",
    "for t in tables:\n",
    "    print(t[0])"
   ]
  },
  {
   "cell_type": "code",
   "execution_count": null,
   "id": "2cee4a9b",
   "metadata": {},
   "outputs": [
    {
     "name": "stdout",
     "output_type": "stream",
     "text": [
      "\n",
      "📄 Estrutura da tabela: ('ibm_rfm',)\n",
      "   column_name         data_type\n",
      "0   cd_cliente  double precision\n",
      "1     recencia            bigint\n",
      "2   frequencia            bigint\n",
      "3  valor_total  double precision\n",
      "4  valor_medio  double precision\n",
      "\n",
      "📄 Estrutura da tabela: ('ibm_familia',)\n"
     ]
    },
    {
     "name": "stderr",
     "output_type": "stream",
     "text": [
      "C:\\Users\\henri\\AppData\\Local\\Temp\\ipykernel_24680\\1240962458.py:8: UserWarning: pandas only supports SQLAlchemy connectable (engine/connection) or database string URI or sqlite3 DBAPI2 connection. Other DBAPI2 objects are not tested. Please consider using SQLAlchemy.\n",
      "  return pd.read_sql(query, conn)\n",
      "C:\\Users\\henri\\AppData\\Local\\Temp\\ipykernel_24680\\1240962458.py:8: UserWarning: pandas only supports SQLAlchemy connectable (engine/connection) or database string URI or sqlite3 DBAPI2 connection. Other DBAPI2 objects are not tested. Please consider using SQLAlchemy.\n",
      "  return pd.read_sql(query, conn)\n"
     ]
    },
    {
     "name": "stdout",
     "output_type": "stream",
     "text": [
      "  column_name          data_type\n",
      "0  cd_familia            numeric\n",
      "1  nm_familia  character varying\n",
      "\n",
      "📄 Estrutura da tabela: ('ibm_grupo',)\n",
      "  column_name          data_type\n",
      "0    cd_grupo            numeric\n",
      "1  cd_familia            numeric\n",
      "2    nm_grupo  character varying\n",
      "\n",
      "📄 Estrutura da tabela: ('ibm_grupo_marca',)\n"
     ]
    },
    {
     "name": "stderr",
     "output_type": "stream",
     "text": [
      "C:\\Users\\henri\\AppData\\Local\\Temp\\ipykernel_24680\\1240962458.py:8: UserWarning: pandas only supports SQLAlchemy connectable (engine/connection) or database string URI or sqlite3 DBAPI2 connection. Other DBAPI2 objects are not tested. Please consider using SQLAlchemy.\n",
      "  return pd.read_sql(query, conn)\n",
      "C:\\Users\\henri\\AppData\\Local\\Temp\\ipykernel_24680\\1240962458.py:8: UserWarning: pandas only supports SQLAlchemy connectable (engine/connection) or database string URI or sqlite3 DBAPI2 connection. Other DBAPI2 objects are not tested. Please consider using SQLAlchemy.\n",
      "  return pd.read_sql(query, conn)\n"
     ]
    },
    {
     "name": "stdout",
     "output_type": "stream",
     "text": [
      "  column_name data_type\n",
      "0    cd_grupo   numeric\n",
      "1    cd_marca   numeric\n",
      "\n",
      "📄 Estrutura da tabela: ('ibm_marca',)\n",
      "  column_name          data_type\n",
      "0    cd_marca            numeric\n",
      "1    nm_marca  character varying\n",
      "\n",
      "📄 Estrutura da tabela: ('ibm_produto',)\n"
     ]
    },
    {
     "name": "stderr",
     "output_type": "stream",
     "text": [
      "C:\\Users\\henri\\AppData\\Local\\Temp\\ipykernel_24680\\1240962458.py:8: UserWarning: pandas only supports SQLAlchemy connectable (engine/connection) or database string URI or sqlite3 DBAPI2 connection. Other DBAPI2 objects are not tested. Please consider using SQLAlchemy.\n",
      "  return pd.read_sql(query, conn)\n",
      "C:\\Users\\henri\\AppData\\Local\\Temp\\ipykernel_24680\\1240962458.py:8: UserWarning: pandas only supports SQLAlchemy connectable (engine/connection) or database string URI or sqlite3 DBAPI2 connection. Other DBAPI2 objects are not tested. Please consider using SQLAlchemy.\n",
      "  return pd.read_sql(query, conn)\n"
     ]
    },
    {
     "name": "stdout",
     "output_type": "stream",
     "text": [
      "  column_name          data_type\n",
      "0  cd_produto            numeric\n",
      "1  cd_familia            numeric\n",
      "2  vl_produto            numeric\n",
      "3      vl_ipi            numeric\n",
      "4       p_ipi            numeric\n",
      "5  nm_produto  character varying\n",
      "\n",
      "📄 Estrutura da tabela: ('ibm_itens',)\n",
      "   column_name data_type\n",
      "0      nr_nota   numeric\n",
      "1   cd_produto   numeric\n",
      "2    qtd_itens   numeric\n",
      "3  vl_unitario   numeric\n",
      "4     vl_total   numeric\n",
      "5       p_icms   numeric\n",
      "6      vl_icms   numeric\n",
      "\n",
      "📄 Estrutura da tabela: ('ibm_linha',)\n"
     ]
    },
    {
     "name": "stderr",
     "output_type": "stream",
     "text": [
      "C:\\Users\\henri\\AppData\\Local\\Temp\\ipykernel_24680\\1240962458.py:8: UserWarning: pandas only supports SQLAlchemy connectable (engine/connection) or database string URI or sqlite3 DBAPI2 connection. Other DBAPI2 objects are not tested. Please consider using SQLAlchemy.\n",
      "  return pd.read_sql(query, conn)\n",
      "C:\\Users\\henri\\AppData\\Local\\Temp\\ipykernel_24680\\1240962458.py:8: UserWarning: pandas only supports SQLAlchemy connectable (engine/connection) or database string URI or sqlite3 DBAPI2 connection. Other DBAPI2 objects are not tested. Please consider using SQLAlchemy.\n",
      "  return pd.read_sql(query, conn)\n"
     ]
    },
    {
     "name": "stdout",
     "output_type": "stream",
     "text": [
      "  column_name          data_type\n",
      "0    cd_linha            numeric\n",
      "1    nm_linha  character varying\n",
      "\n",
      "📄 Estrutura da tabela: ('ibm_linha_subgrupo',)\n",
      "   column_name data_type\n",
      "0     cd_linha   numeric\n",
      "1  cd_subgrupo   numeric\n",
      "\n",
      "📄 Estrutura da tabela: ('ibm_subgrupo',)\n"
     ]
    },
    {
     "name": "stderr",
     "output_type": "stream",
     "text": [
      "C:\\Users\\henri\\AppData\\Local\\Temp\\ipykernel_24680\\1240962458.py:8: UserWarning: pandas only supports SQLAlchemy connectable (engine/connection) or database string URI or sqlite3 DBAPI2 connection. Other DBAPI2 objects are not tested. Please consider using SQLAlchemy.\n",
      "  return pd.read_sql(query, conn)\n",
      "C:\\Users\\henri\\AppData\\Local\\Temp\\ipykernel_24680\\1240962458.py:8: UserWarning: pandas only supports SQLAlchemy connectable (engine/connection) or database string URI or sqlite3 DBAPI2 connection. Other DBAPI2 objects are not tested. Please consider using SQLAlchemy.\n",
      "  return pd.read_sql(query, conn)\n"
     ]
    },
    {
     "name": "stdout",
     "output_type": "stream",
     "text": [
      "   column_name          data_type\n",
      "0  cd_subgrupo            numeric\n",
      "1  nm_subgrupo  character varying\n",
      "\n",
      "📄 Estrutura da tabela: ('ibm_cliente',)\n",
      "  column_name          data_type\n",
      "0  cd_cliente            numeric\n",
      "1  nm_cliente  character varying\n",
      "2   nm_cidade  character varying\n",
      "3   uf_estado          character\n",
      "\n",
      "📄 Estrutura da tabela: ('nota_fiscal',)\n"
     ]
    },
    {
     "name": "stderr",
     "output_type": "stream",
     "text": [
      "C:\\Users\\henri\\AppData\\Local\\Temp\\ipykernel_24680\\1240962458.py:8: UserWarning: pandas only supports SQLAlchemy connectable (engine/connection) or database string URI or sqlite3 DBAPI2 connection. Other DBAPI2 objects are not tested. Please consider using SQLAlchemy.\n",
      "  return pd.read_sql(query, conn)\n",
      "C:\\Users\\henri\\AppData\\Local\\Temp\\ipykernel_24680\\1240962458.py:8: UserWarning: pandas only supports SQLAlchemy connectable (engine/connection) or database string URI or sqlite3 DBAPI2 connection. Other DBAPI2 objects are not tested. Please consider using SQLAlchemy.\n",
      "  return pd.read_sql(query, conn)\n"
     ]
    },
    {
     "name": "stdout",
     "output_type": "stream",
     "text": [
      "   column_name data_type\n",
      "0      nr_nota   numeric\n",
      "1   dt_emissao      date\n",
      "2   cd_cliente   numeric\n",
      "3  cd_vendedor   numeric\n",
      "4  cd_operacao   numeric\n",
      "5     vl_total   numeric\n",
      "\n",
      "📄 Estrutura da tabela: ('ibm_operacao',)\n",
      "   column_name          data_type\n",
      "0  cd_operacao            numeric\n",
      "1  tp_operacao  character varying\n",
      "\n",
      "📄 Estrutura da tabela: ('ibm_vendedor',)\n"
     ]
    },
    {
     "name": "stderr",
     "output_type": "stream",
     "text": [
      "C:\\Users\\henri\\AppData\\Local\\Temp\\ipykernel_24680\\1240962458.py:8: UserWarning: pandas only supports SQLAlchemy connectable (engine/connection) or database string URI or sqlite3 DBAPI2 connection. Other DBAPI2 objects are not tested. Please consider using SQLAlchemy.\n",
      "  return pd.read_sql(query, conn)\n",
      "C:\\Users\\henri\\AppData\\Local\\Temp\\ipykernel_24680\\1240962458.py:8: UserWarning: pandas only supports SQLAlchemy connectable (engine/connection) or database string URI or sqlite3 DBAPI2 connection. Other DBAPI2 objects are not tested. Please consider using SQLAlchemy.\n",
      "  return pd.read_sql(query, conn)\n"
     ]
    },
    {
     "name": "stdout",
     "output_type": "stream",
     "text": [
      "   column_name          data_type\n",
      "0  cd_vendedor            numeric\n",
      "1  nm_vendedor  character varying\n",
      "\n",
      "📄 Estrutura da tabela: ('modelos_ml',)\n",
      "  column_name                    data_type\n",
      "0          id                      integer\n",
      "1   criado_em  timestamp without time zone\n",
      "2      modelo                        bytea\n",
      "3   nm_modelo            character varying\n",
      "4      versao            character varying\n"
     ]
    },
    {
     "name": "stderr",
     "output_type": "stream",
     "text": [
      "C:\\Users\\henri\\AppData\\Local\\Temp\\ipykernel_24680\\1240962458.py:8: UserWarning: pandas only supports SQLAlchemy connectable (engine/connection) or database string URI or sqlite3 DBAPI2 connection. Other DBAPI2 objects are not tested. Please consider using SQLAlchemy.\n",
      "  return pd.read_sql(query, conn)\n"
     ]
    }
   ],
   "source": [
    "# Função para listar colunas de cada tabela\n",
    "def listar_colunas(conn, tabela):\n",
    "    query = f\"\"\"\n",
    "    SELECT column_name, data_type\n",
    "    FROM information_schema.columns\n",
    "    WHERE table_name = '{tabela}';\n",
    "    \"\"\"\n",
    "    return pd.read_sql(query, conn)\n",
    "\n",
    "# Mostrando colunas de todas as tabelas\n",
    "for table in tables:\n",
    "    print(f\"\\n📄 Estrutura da tabela: {table}\")\n",
    "    print(listar_colunas(conn, table[0]))"
   ]
  },
  {
   "cell_type": "code",
   "execution_count": null,
   "id": "cfc2769c",
   "metadata": {},
   "outputs": [],
   "source": [
    "# Função para atualizar a tabela RFM via SQL\n",
    "def atualizar_rfm():\n",
    "    conn = psycopg2.connect(\n",
    "        host=\"SEU_HOST\",\n",
    "        database=\"SEU_DB\",\n",
    "        user=\"SEU_USER\",\n",
    "        password=\"SUA_SENHA\",\n",
    "        port=5432\n",
    "    )\n",
    "    cursor = conn.cursor()\n",
    "    cursor.execute(open(\"/caminho/para/seu_script_rfm.sql\", \"r\").read())\n",
    "    conn.commit()\n",
    "    cursor.close()\n",
    "    conn.close()\n",
    "\n",
    "# Função para rodar o modelo de churn prediction\n",
    "def atualizar_modelo_churn():\n",
    "    conn = psycopg2.connect(\n",
    "        host=\"SEU_HOST\",\n",
    "        database=\"SEU_DB\",\n",
    "        user=\"SEU_USER\",\n",
    "        password=\"SUA_SENHA\",\n",
    "        port=5432\n",
    "    )\n",
    "    cursor = conn.cursor()\n",
    "    cursor.execute(\"\"\"\n",
    "        SELECT modelo FROM modelos_ml\n",
    "        WHERE nome_modelo = %s AND versao = %s\n",
    "    \"\"\", (\"catboost_churn\", \"v1\"))\n",
    "    \n",
    "    modelo_bytes = cursor.fetchone()[0]\n",
    "    modelo = joblib.load(io.BytesIO(modelo_bytes))\n",
    "    \n",
    "    df = pd.read_sql(\"SELECT * FROM dados_clientes_rfm\", conn)\n",
    "    predicoes = modelo.predict_proba(df)[:, 1]\n",
    "    \n",
    "    # Atualizando resultados no banco\n",
    "    for idx, prob in enumerate(predicoes):\n",
    "        cursor.execute(\"\"\"\n",
    "            UPDATE clientes SET prob_churn = %s WHERE id_cliente = %s\n",
    "        \"\"\", (float(prob), df.iloc[idx][\"id_cliente\"]))\n",
    "    \n",
    "    conn.commit()\n",
    "    cursor.close()\n",
    "    conn.close()\n",
    "\n",
    "# Função para rodar o modelo de clustering\n",
    "def atualizar_clusterizacao():\n",
    "    conn = psycopg2.connect(\n",
    "        host=\"SEU_HOST\",\n",
    "        database=\"SEU_DB\",\n",
    "        user=\"SEU_USER\",\n",
    "        password=\"SUA_SENHA\",\n",
    "        port=5432\n",
    "    )\n",
    "    cursor = conn.cursor()\n",
    "    cursor.execute(\"\"\"\n",
    "        SELECT modelo FROM modelos_ml\n",
    "        WHERE nome_modelo = %s AND versao = %s\n",
    "    \"\"\", (\"kmeans_segmentacao\", \"v1\"))\n",
    "    \n",
    "    modelo_bytes = cursor.fetchone()[0]\n",
    "    modelo = joblib.load(io.BytesIO(modelo_bytes))\n",
    "    \n",
    "    df = pd.read_sql(\"SELECT * FROM dados_clientes_clusterizacao\", conn)\n",
    "    clusters = modelo.predict(df)\n",
    "    \n",
    "    for idx, grupo in enumerate(clusters):\n",
    "        cursor.execute(\"\"\"\n",
    "            UPDATE clientes SET cluster = %s WHERE id_cliente = %s\n",
    "        \"\"\", (int(grupo), df.iloc[idx][\"id_cliente\"]))\n",
    "\n",
    "    conn.commit()\n",
    "    cursor.close()\n",
    "    conn.close()\n",
    "\n",
    "# Configuração da DAG\n",
    "default_args = {\n",
    "    'owner': 'grupo55',\n",
    "    'depends_on_past': False,\n",
    "    'retries': 3,\n",
    "    'retry_delay': timedelta(minutes=5),\n",
    "    'start_date': datetime(2023, 1, 1),\n",
    "}\n",
    "\n",
    "dag = DAG(\n",
    "    'pipeline_fidelidade_semanal',\n",
    "    default_args=default_args,\n",
    "    schedule_interval='@weekly',\n",
    "    catchup=False\n",
    ")\n",
    "\n",
    "# Definindo as tarefas\n",
    "t1 = PythonOperator(task_id='atualizar_rfm', python_callable=atualizar_rfm, dag=dag)\n",
    "t2 = PythonOperator(task_id='atualizar_modelo_churn', python_callable=atualizar_modelo_churn, dag=dag)\n",
    "t3 = PythonOperator(task_id='atualizar_clusterizacao', python_callable=atualizar_clusterizacao, dag=dag)\n",
    "\n",
    "# Exemplo de notificação (ajuste os parâmetros conforme necessário)\n",
    "t4 = EmailOperator(\n",
    "    task_id='notificar_time',\n",
    "    to='sua-equipe@example.com',\n",
    "    subject='Pipeline semanal executado com sucesso',\n",
    "    html_content='Todas as tarefas foram concluídas com sucesso!',\n",
    "    dag=dag\n",
    ")\n",
    "\n",
    "# Definindo a ordem de execução\n",
    "t1 >> [t2, t3] >> t4"
   ]
  }
 ],
 "metadata": {
  "kernelspec": {
   "display_name": "Python 3",
   "language": "python",
   "name": "python3"
  },
  "language_info": {
   "codemirror_mode": {
    "name": "ipython",
    "version": 3
   },
   "file_extension": ".py",
   "mimetype": "text/x-python",
   "name": "python",
   "nbconvert_exporter": "python",
   "pygments_lexer": "ipython3",
   "version": "3.11.3"
  }
 },
 "nbformat": 4,
 "nbformat_minor": 5
}
