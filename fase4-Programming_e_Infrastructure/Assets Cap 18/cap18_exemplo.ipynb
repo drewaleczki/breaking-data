{
  "nbformat": 4,
  "nbformat_minor": 0,
  "metadata": {
    "colab": {
      "name": "cap3_exemplo.ipynb",
      "provenance": [],
      "collapsed_sections": []
    },
    "kernelspec": {
      "name": "python3",
      "display_name": "Python 3"
    },
    "language_info": {
      "name": "python"
    }
  },
  "cells": [
    {
      "cell_type": "markdown",
      "metadata": {
        "id": "zVbD--cx9Bp5"
      },
      "source": [
        "# Distribuições de probabilidade"
      ]
    },
    {
      "cell_type": "markdown",
      "metadata": {
        "id": "t6J22APF9If3"
      },
      "source": [
        "## Carregar módulos"
      ]
    },
    {
      "cell_type": "code",
      "metadata": {
        "id": "9jHDLo23V4S5"
      },
      "source": [
        "from itertools import product, permutations, combinations, combinations_with_replacement\n",
        "from math import factorial"
      ],
      "execution_count": 1,
      "outputs": []
    },
    {
      "cell_type": "code",
      "metadata": {
        "id": "yedcGqcg9Ijw"
      },
      "source": [
        "import numpy as np\n",
        "import pandas as pd"
      ],
      "execution_count": 2,
      "outputs": []
    },
    {
      "cell_type": "code",
      "metadata": {
        "id": "H3U_MWlsV6EA"
      },
      "source": [
        "import datetime\n",
        "import matplotlib.pyplot as plt\n",
        "import seaborn as sns\n",
        "from scipy.stats import binom, poisson, expon, norm"
      ],
      "execution_count": 3,
      "outputs": []
    },
    {
      "cell_type": "markdown",
      "metadata": {
        "id": "GPac3E7O9IoD"
      },
      "source": [
        "## Carregar dados"
      ]
    },
    {
      "cell_type": "code",
      "metadata": {
        "id": "6G9Yq_tm9Irx"
      },
      "source": [
        "dados_acidentes = pd.read_csv('acidentes.csv')"
      ],
      "execution_count": 4,
      "outputs": []
    },
    {
      "cell_type": "code",
      "metadata": {
        "colab": {
          "base_uri": "https://localhost:8080/",
          "height": 206
        },
        "id": "g5dpWcZA9Ivp",
        "outputId": "24df9e75-be44-4f41-e042-28f039073586"
      },
      "source": [
        "dados_acidentes.head()"
      ],
      "execution_count": 5,
      "outputs": [
        {
          "output_type": "execute_result",
          "data": {
            "text/html": [
              "<div>\n",
              "<style scoped>\n",
              "    .dataframe tbody tr th:only-of-type {\n",
              "        vertical-align: middle;\n",
              "    }\n",
              "\n",
              "    .dataframe tbody tr th {\n",
              "        vertical-align: top;\n",
              "    }\n",
              "\n",
              "    .dataframe thead th {\n",
              "        text-align: right;\n",
              "    }\n",
              "</style>\n",
              "<table border=\"1\" class=\"dataframe\">\n",
              "  <thead>\n",
              "    <tr style=\"text-align: right;\">\n",
              "      <th></th>\n",
              "      <th>id_acidente</th>\n",
              "      <th>data_acidente</th>\n",
              "      <th>tipo_lesao</th>\n",
              "      <th>risco_classificacao</th>\n",
              "    </tr>\n",
              "  </thead>\n",
              "  <tbody>\n",
              "    <tr>\n",
              "      <th>0</th>\n",
              "      <td>1</td>\n",
              "      <td>2014-02-11</td>\n",
              "      <td>Laceração</td>\n",
              "      <td>Leve</td>\n",
              "    </tr>\n",
              "    <tr>\n",
              "      <th>1</th>\n",
              "      <td>2</td>\n",
              "      <td>2014-02-05</td>\n",
              "      <td>Ferimentos Perfurantes</td>\n",
              "      <td>Médio</td>\n",
              "    </tr>\n",
              "    <tr>\n",
              "      <th>2</th>\n",
              "      <td>3</td>\n",
              "      <td>2014-01-31</td>\n",
              "      <td>Contusão</td>\n",
              "      <td>Leve</td>\n",
              "    </tr>\n",
              "    <tr>\n",
              "      <th>3</th>\n",
              "      <td>4</td>\n",
              "      <td>2014-01-13</td>\n",
              "      <td>Corte</td>\n",
              "      <td>Leve</td>\n",
              "    </tr>\n",
              "    <tr>\n",
              "      <th>4</th>\n",
              "      <td>5</td>\n",
              "      <td>2014-02-14</td>\n",
              "      <td>Contusão</td>\n",
              "      <td>Médio</td>\n",
              "    </tr>\n",
              "  </tbody>\n",
              "</table>\n",
              "</div>"
            ],
            "text/plain": [
              "   id_acidente data_acidente              tipo_lesao risco_classificacao\n",
              "0            1    2014-02-11               Laceração                Leve\n",
              "1            2    2014-02-05  Ferimentos Perfurantes               Médio\n",
              "2            3    2014-01-31                Contusão                Leve\n",
              "3            4    2014-01-13                   Corte                Leve\n",
              "4            5    2014-02-14                Contusão               Médio"
            ]
          },
          "metadata": {},
          "execution_count": 5
        }
      ]
    },
    {
      "cell_type": "code",
      "metadata": {
        "id": "fJ2dWBCJWOLA"
      },
      "source": [
        "dados_vinho = pd.read_csv('vinho_nacional.csv', sep = ';', decimal = ',')"
      ],
      "execution_count": 6,
      "outputs": []
    },
    {
      "cell_type": "code",
      "metadata": {
        "colab": {
          "base_uri": "https://localhost:8080/",
          "height": 206
        },
        "id": "DRu4fYmzWOTf",
        "outputId": "a00c0227-4469-445a-c57e-036a29048d3a"
      },
      "source": [
        "dados_vinho.head()"
      ],
      "execution_count": 7,
      "outputs": [
        {
          "output_type": "execute_result",
          "data": {
            "text/html": [
              "<div>\n",
              "<style scoped>\n",
              "    .dataframe tbody tr th:only-of-type {\n",
              "        vertical-align: middle;\n",
              "    }\n",
              "\n",
              "    .dataframe tbody tr th {\n",
              "        vertical-align: top;\n",
              "    }\n",
              "\n",
              "    .dataframe thead th {\n",
              "        text-align: right;\n",
              "    }\n",
              "</style>\n",
              "<table border=\"1\" class=\"dataframe\">\n",
              "  <thead>\n",
              "    <tr style=\"text-align: right;\">\n",
              "      <th></th>\n",
              "      <th>preco_vinho_italiano</th>\n",
              "      <th>gasto_propaganda</th>\n",
              "      <th>temperatura</th>\n",
              "      <th>vendas_vinho_nacional</th>\n",
              "    </tr>\n",
              "  </thead>\n",
              "  <tbody>\n",
              "    <tr>\n",
              "      <th>0</th>\n",
              "      <td>50</td>\n",
              "      <td>230</td>\n",
              "      <td>27</td>\n",
              "      <td>328</td>\n",
              "    </tr>\n",
              "    <tr>\n",
              "      <th>1</th>\n",
              "      <td>50</td>\n",
              "      <td>232</td>\n",
              "      <td>26</td>\n",
              "      <td>328</td>\n",
              "    </tr>\n",
              "    <tr>\n",
              "      <th>2</th>\n",
              "      <td>58</td>\n",
              "      <td>235</td>\n",
              "      <td>27</td>\n",
              "      <td>330</td>\n",
              "    </tr>\n",
              "    <tr>\n",
              "      <th>3</th>\n",
              "      <td>56</td>\n",
              "      <td>242</td>\n",
              "      <td>27</td>\n",
              "      <td>330</td>\n",
              "    </tr>\n",
              "    <tr>\n",
              "      <th>4</th>\n",
              "      <td>62</td>\n",
              "      <td>245</td>\n",
              "      <td>28</td>\n",
              "      <td>335</td>\n",
              "    </tr>\n",
              "  </tbody>\n",
              "</table>\n",
              "</div>"
            ],
            "text/plain": [
              "   preco_vinho_italiano  gasto_propaganda  temperatura  vendas_vinho_nacional\n",
              "0                    50               230           27                    328\n",
              "1                    50               232           26                    328\n",
              "2                    58               235           27                    330\n",
              "3                    56               242           27                    330\n",
              "4                    62               245           28                    335"
            ]
          },
          "metadata": {},
          "execution_count": 7
        }
      ]
    },
    {
      "cell_type": "markdown",
      "metadata": {
        "id": "Xf7MfRP2WnC3"
      },
      "source": [
        "## Exemplo Permutação e Combinação"
      ]
    },
    {
      "cell_type": "markdown",
      "metadata": {
        "id": "hp2sbUUmWnOH"
      },
      "source": [
        "- Criar permutações sem repetição"
      ]
    },
    {
      "cell_type": "code",
      "metadata": {
        "id": "MhkpMxnBfpJx"
      },
      "source": [
        "cores = ['preta', 'vermelha', 'amarela']"
      ],
      "execution_count": null,
      "outputs": []
    },
    {
      "cell_type": "code",
      "metadata": {
        "id": "8NQNkWdKfpO8"
      },
      "source": [
        "permutacoes = permutations(cores, 3)"
      ],
      "execution_count": null,
      "outputs": []
    },
    {
      "cell_type": "code",
      "metadata": {
        "colab": {
          "base_uri": "https://localhost:8080/"
        },
        "id": "uxXIOVNQfpTA",
        "outputId": "99ff539a-52c2-4a10-a953-92b6daffbb4e"
      },
      "source": [
        "list(permutacoes)"
      ],
      "execution_count": null,
      "outputs": [
        {
          "output_type": "execute_result",
          "data": {
            "text/plain": [
              "[('preta', 'vermelha', 'amarela'),\n",
              " ('preta', 'amarela', 'vermelha'),\n",
              " ('vermelha', 'preta', 'amarela'),\n",
              " ('vermelha', 'amarela', 'preta'),\n",
              " ('amarela', 'preta', 'vermelha'),\n",
              " ('amarela', 'vermelha', 'preta')]"
            ]
          },
          "metadata": {},
          "execution_count": 10
        }
      ]
    },
    {
      "cell_type": "markdown",
      "metadata": {
        "id": "kTSa5gwKW6DB"
      },
      "source": [
        "- Criar permutações com repetições"
      ]
    },
    {
      "cell_type": "code",
      "metadata": {
        "id": "QfCbXRc3hZVU"
      },
      "source": [
        "cores = ['preta', 'vermelha', 'amarela']"
      ],
      "execution_count": null,
      "outputs": []
    },
    {
      "cell_type": "code",
      "metadata": {
        "id": "ntqCrkp1hZaE"
      },
      "source": [
        "perm_repeticao = product(cores, repeat=3)"
      ],
      "execution_count": null,
      "outputs": []
    },
    {
      "cell_type": "code",
      "metadata": {
        "colab": {
          "base_uri": "https://localhost:8080/"
        },
        "id": "Og0_GhgmhZdp",
        "outputId": "63a5e616-56fb-4a1c-f860-5a38f133b1ce"
      },
      "source": [
        "list(perm_repeticao)"
      ],
      "execution_count": null,
      "outputs": [
        {
          "output_type": "execute_result",
          "data": {
            "text/plain": [
              "[('preta', 'preta', 'preta'),\n",
              " ('preta', 'preta', 'vermelha'),\n",
              " ('preta', 'preta', 'amarela'),\n",
              " ('preta', 'vermelha', 'preta'),\n",
              " ('preta', 'vermelha', 'vermelha'),\n",
              " ('preta', 'vermelha', 'amarela'),\n",
              " ('preta', 'amarela', 'preta'),\n",
              " ('preta', 'amarela', 'vermelha'),\n",
              " ('preta', 'amarela', 'amarela'),\n",
              " ('vermelha', 'preta', 'preta'),\n",
              " ('vermelha', 'preta', 'vermelha'),\n",
              " ('vermelha', 'preta', 'amarela'),\n",
              " ('vermelha', 'vermelha', 'preta'),\n",
              " ('vermelha', 'vermelha', 'vermelha'),\n",
              " ('vermelha', 'vermelha', 'amarela'),\n",
              " ('vermelha', 'amarela', 'preta'),\n",
              " ('vermelha', 'amarela', 'vermelha'),\n",
              " ('vermelha', 'amarela', 'amarela'),\n",
              " ('amarela', 'preta', 'preta'),\n",
              " ('amarela', 'preta', 'vermelha'),\n",
              " ('amarela', 'preta', 'amarela'),\n",
              " ('amarela', 'vermelha', 'preta'),\n",
              " ('amarela', 'vermelha', 'vermelha'),\n",
              " ('amarela', 'vermelha', 'amarela'),\n",
              " ('amarela', 'amarela', 'preta'),\n",
              " ('amarela', 'amarela', 'vermelha'),\n",
              " ('amarela', 'amarela', 'amarela')]"
            ]
          },
          "metadata": {},
          "execution_count": 13
        }
      ]
    },
    {
      "cell_type": "markdown",
      "metadata": {
        "id": "RD7Qbw4GW6IG"
      },
      "source": [
        "- Combinações sem repetição"
      ]
    },
    {
      "cell_type": "code",
      "metadata": {
        "id": "bxStNQ_PhxcF"
      },
      "source": [
        "cores = ['verde', 'vermelha', 'roxa', 'azul']"
      ],
      "execution_count": null,
      "outputs": []
    },
    {
      "cell_type": "code",
      "metadata": {
        "id": "JOO0v0V-hxgf"
      },
      "source": [
        "combinacao = combinations(cores, 2)"
      ],
      "execution_count": null,
      "outputs": []
    },
    {
      "cell_type": "code",
      "metadata": {
        "colab": {
          "base_uri": "https://localhost:8080/"
        },
        "id": "t619Goonhxjv",
        "outputId": "047179c1-8610-47f3-c654-ea104ce55d59"
      },
      "source": [
        "list(combinacao)"
      ],
      "execution_count": null,
      "outputs": [
        {
          "output_type": "execute_result",
          "data": {
            "text/plain": [
              "[('verde', 'vermelha'),\n",
              " ('verde', 'roxa'),\n",
              " ('verde', 'azul'),\n",
              " ('vermelha', 'roxa'),\n",
              " ('vermelha', 'azul'),\n",
              " ('roxa', 'azul')]"
            ]
          },
          "metadata": {},
          "execution_count": 16
        }
      ]
    },
    {
      "cell_type": "markdown",
      "metadata": {
        "id": "z01Xj7_sWnSC"
      },
      "source": [
        "- Combinações com repetição"
      ]
    },
    {
      "cell_type": "code",
      "metadata": {
        "id": "UDMgfOijh_39"
      },
      "source": [
        "cores = ['verde', 'vermelha', 'roxa', 'azul']"
      ],
      "execution_count": null,
      "outputs": []
    },
    {
      "cell_type": "code",
      "metadata": {
        "id": "jShfNQV1h_8q"
      },
      "source": [
        "combinacao_com_rep = combinations_with_replacement(cores, 2)"
      ],
      "execution_count": null,
      "outputs": []
    },
    {
      "cell_type": "code",
      "metadata": {
        "colab": {
          "base_uri": "https://localhost:8080/"
        },
        "id": "RPPXYm18iAAn",
        "outputId": "ccae9456-97ba-4cd7-f0d9-bd5df4fa98ce"
      },
      "source": [
        "list(combinacao_com_rep)"
      ],
      "execution_count": null,
      "outputs": [
        {
          "output_type": "execute_result",
          "data": {
            "text/plain": [
              "[('verde', 'verde'),\n",
              " ('verde', 'vermelha'),\n",
              " ('verde', 'roxa'),\n",
              " ('verde', 'azul'),\n",
              " ('vermelha', 'vermelha'),\n",
              " ('vermelha', 'roxa'),\n",
              " ('vermelha', 'azul'),\n",
              " ('roxa', 'roxa'),\n",
              " ('roxa', 'azul'),\n",
              " ('azul', 'azul')]"
            ]
          },
          "metadata": {},
          "execution_count": 19
        }
      ]
    },
    {
      "cell_type": "markdown",
      "metadata": {
        "id": "zLmP0z2KiAEZ"
      },
      "source": [
        "- Obter quantidade de permutações"
      ]
    },
    {
      "cell_type": "code",
      "metadata": {
        "id": "NIC7COBKiAIL"
      },
      "source": [
        "# criar a formula no python\n",
        "def formula_permutacao(n, k, repeticao = False):\n",
        "  if repeticao is True:\n",
        "    return n**k\n",
        "  else:\n",
        "    return factorial(n) / factorial(n-k)"
      ],
      "execution_count": 8,
      "outputs": []
    },
    {
      "cell_type": "code",
      "metadata": {
        "colab": {
          "base_uri": "https://localhost:8080/"
        },
        "id": "9jXAfqZejUdu",
        "outputId": "7ce7073a-0df7-45bb-9810-3b72afc50dd3"
      },
      "source": [
        "# obter o numero de permutacoes\n",
        "n = 10\n",
        "k = 6\n",
        "formula_permutacao(n, k)"
      ],
      "execution_count": 9,
      "outputs": [
        {
          "output_type": "execute_result",
          "data": {
            "text/plain": [
              "151200.0"
            ]
          },
          "metadata": {},
          "execution_count": 9
        }
      ]
    },
    {
      "cell_type": "code",
      "metadata": {
        "colab": {
          "base_uri": "https://localhost:8080/"
        },
        "id": "D6S8DWlWjUir",
        "outputId": "9c2cff3b-5ea3-411f-f7ae-24a567b63372"
      },
      "source": [
        "n = 10\n",
        "k = 6\n",
        "\n",
        "formula_permutacao(n, k, repeticao=True)"
      ],
      "execution_count": 10,
      "outputs": [
        {
          "output_type": "execute_result",
          "data": {
            "text/plain": [
              "1000000"
            ]
          },
          "metadata": {},
          "execution_count": 10
        }
      ]
    },
    {
      "cell_type": "markdown",
      "metadata": {
        "id": "dVkWHfaNjUmf"
      },
      "source": [
        "- Obter quantidade de combinações"
      ]
    },
    {
      "cell_type": "code",
      "metadata": {
        "id": "wqjPAOv3jbx9"
      },
      "source": [
        "# criar formula\n",
        "def formula_combinacao(n, k, repeticao = False):\n",
        "  if repeticao is False:\n",
        "    return factorial(n) / (factorial(k) * factorial(n-k))\n",
        "  else:\n",
        "    return factorial(n+k-1) / (factorial(k) * factorial(n-1))"
      ],
      "execution_count": 12,
      "outputs": []
    },
    {
      "cell_type": "code",
      "metadata": {
        "colab": {
          "base_uri": "https://localhost:8080/"
        },
        "id": "3W8jOXbbjb3R",
        "outputId": "fc90d3af-9506-4251-9ce7-3b0c7077dc7b"
      },
      "source": [
        "# aplicar a formula\n",
        "n = 60\n",
        "k = 6\n",
        "formula_combinacao(n, k)"
      ],
      "execution_count": 13,
      "outputs": [
        {
          "output_type": "execute_result",
          "data": {
            "text/plain": [
              "50063860.0"
            ]
          },
          "metadata": {},
          "execution_count": 13
        }
      ]
    },
    {
      "cell_type": "code",
      "metadata": {
        "colab": {
          "base_uri": "https://localhost:8080/"
        },
        "id": "qJQpHMd8jb71",
        "outputId": "514d0f95-c2d5-412d-9238-34ceaeda0b44"
      },
      "source": [
        "n = 60\n",
        "k = 6\n",
        "formula_combinacao(n, k, repeticao=True)"
      ],
      "execution_count": 14,
      "outputs": [
        {
          "output_type": "execute_result",
          "data": {
            "text/plain": [
              "82598880.0"
            ]
          },
          "metadata": {},
          "execution_count": 14
        }
      ]
    },
    {
      "cell_type": "markdown",
      "metadata": {
        "id": "QwmR8BSn9IzZ"
      },
      "source": [
        "## Exemplo Histograma"
      ]
    },
    {
      "cell_type": "markdown",
      "metadata": {
        "id": "LlFz-u2ABGmH"
      },
      "source": [
        "- Preparar os dados"
      ]
    },
    {
      "cell_type": "code",
      "metadata": {
        "id": "97z1fQnBARA_"
      },
      "source": [
        "dados_acidentes['data_acidente'] = pd.to_datetime(dados_acidentes['data_acidente'], errors='coerce')"
      ],
      "execution_count": 15,
      "outputs": []
    },
    {
      "cell_type": "code",
      "metadata": {
        "id": "vzNoF_IIARFw"
      },
      "source": [
        "dados_acidentes['data_acidente_mensal'] = dados_acidentes['data_acidente'].dt.strftime('%Y-%m')"
      ],
      "execution_count": 16,
      "outputs": []
    },
    {
      "cell_type": "code",
      "metadata": {
        "id": "cnUTDgNPARI6"
      },
      "source": [
        "dados_acidentes_mensal = dados_acidentes.groupby('data_acidente_mensal') \\\n",
        "                              .size() \\\n",
        "                              .to_frame('n') \\\n",
        "                              .reset_index()"
      ],
      "execution_count": 17,
      "outputs": []
    },
    {
      "cell_type": "code",
      "metadata": {
        "colab": {
          "base_uri": "https://localhost:8080/",
          "height": 206
        },
        "id": "57MX4v2S-kwB",
        "outputId": "b0609147-2815-4426-9810-836261914516"
      },
      "source": [
        "dados_acidentes_mensal.head()"
      ],
      "execution_count": 18,
      "outputs": [
        {
          "output_type": "execute_result",
          "data": {
            "text/html": [
              "<div>\n",
              "<style scoped>\n",
              "    .dataframe tbody tr th:only-of-type {\n",
              "        vertical-align: middle;\n",
              "    }\n",
              "\n",
              "    .dataframe tbody tr th {\n",
              "        vertical-align: top;\n",
              "    }\n",
              "\n",
              "    .dataframe thead th {\n",
              "        text-align: right;\n",
              "    }\n",
              "</style>\n",
              "<table border=\"1\" class=\"dataframe\">\n",
              "  <thead>\n",
              "    <tr style=\"text-align: right;\">\n",
              "      <th></th>\n",
              "      <th>data_acidente_mensal</th>\n",
              "      <th>n</th>\n",
              "    </tr>\n",
              "  </thead>\n",
              "  <tbody>\n",
              "    <tr>\n",
              "      <th>0</th>\n",
              "      <td>2013-07</td>\n",
              "      <td>1</td>\n",
              "    </tr>\n",
              "    <tr>\n",
              "      <th>1</th>\n",
              "      <td>2014-01</td>\n",
              "      <td>15</td>\n",
              "    </tr>\n",
              "    <tr>\n",
              "      <th>2</th>\n",
              "      <td>2014-02</td>\n",
              "      <td>12</td>\n",
              "    </tr>\n",
              "    <tr>\n",
              "      <th>3</th>\n",
              "      <td>2014-03</td>\n",
              "      <td>11</td>\n",
              "    </tr>\n",
              "    <tr>\n",
              "      <th>4</th>\n",
              "      <td>2014-04</td>\n",
              "      <td>10</td>\n",
              "    </tr>\n",
              "  </tbody>\n",
              "</table>\n",
              "</div>"
            ],
            "text/plain": [
              "  data_acidente_mensal   n\n",
              "0              2013-07   1\n",
              "1              2014-01  15\n",
              "2              2014-02  12\n",
              "3              2014-03  11\n",
              "4              2014-04  10"
            ]
          },
          "metadata": {},
          "execution_count": 18
        }
      ]
    },
    {
      "cell_type": "markdown",
      "metadata": {
        "id": "VdoqBkqLCxlz"
      },
      "source": [
        "- Exemplo matplotlib"
      ]
    },
    {
      "cell_type": "code",
      "metadata": {
        "colab": {
          "base_uri": "https://localhost:8080/",
          "height": 297
        },
        "id": "KXmcBFt7-k0P",
        "outputId": "8d7e4203-14e9-4c97-beb1-0d8e75b5c043"
      },
      "source": [
        "plt.hist(dados_acidentes_mensal['n'], alpha=0.7, rwidth=0.85)\n",
        "plt.xlabel('n')\n",
        "plt.ylabel('Frequencia')"
      ],
      "execution_count": null,
      "outputs": [
        {
          "output_type": "execute_result",
          "data": {
            "text/plain": [
              "Text(0, 0.5, 'Frequencia')"
            ]
          },
          "metadata": {},
          "execution_count": 30
        },
        {
          "output_type": "display_data",
          "data": {
            "image/png": "[encoded data removed]",
            "text/plain": [
              "<Figure size 432x288 with 1 Axes>"
            ]
          },
          "metadata": {
            "needs_background": "light"
          }
        }
      ]
    },
    {
      "cell_type": "markdown",
      "metadata": {
        "id": "uuVhJKCP-k4S"
      },
      "source": [
        "- Exemplo seaborn"
      ]
    },
    {
      "cell_type": "code",
      "metadata": {
        "colab": {
          "base_uri": "https://localhost:8080/",
          "height": 387
        },
        "id": "5U_vk4HjC9Gx",
        "outputId": "85cf969e-5d16-462f-9ac8-0bbaf33eb981"
      },
      "source": [
        "sns.displot(dados_acidentes_mensal['n'])\n",
        "plt.ylabel('Frequencia')"
      ],
      "execution_count": null,
      "outputs": [
        {
          "output_type": "execute_result",
          "data": {
            "text/plain": [
              "Text(0.29999999999999716, 0.5, 'Frequencia')"
            ]
          },
          "metadata": {},
          "execution_count": 31
        },
        {
          "output_type": "display_data",
          "data": {
            "image/png": "[encoded data removed]",
            "text/plain": [
              "<Figure size 360x360 with 1 Axes>"
            ]
          },
          "metadata": {
            "needs_background": "light"
          }
        }
      ]
    },
    {
      "cell_type": "markdown",
      "metadata": {
        "id": "PttGlJ5kC9LJ"
      },
      "source": [
        "## Distribuições discretas"
      ]
    },
    {
      "cell_type": "markdown",
      "metadata": {
        "id": "PAG39SSqPTHS"
      },
      "source": [
        "### Distribuição Binomial"
      ]
    },
    {
      "cell_type": "markdown",
      "metadata": {
        "id": "yH8yQ9pjle3u"
      },
      "source": [
        "- Uma empresa envia sms de propaganda para 50 clientes, a chance de 1 cliente acessar o link é de 5%. Qual a probabilidade de 5 clientes acessarem o link dos sms`s?"
      ]
    },
    {
      "cell_type": "code",
      "metadata": {
        "id": "fr7eH4Pple82"
      },
      "source": [
        "# problema 1\n",
        "n = 50\n",
        "p = 0.05\n",
        "x = 5"
      ],
      "execution_count": null,
      "outputs": []
    },
    {
      "cell_type": "code",
      "metadata": {
        "colab": {
          "base_uri": "https://localhost:8080/"
        },
        "id": "Jl6FZGLulfAc",
        "outputId": "294fd9a6-5ea9-4e1c-f2e0-6900db5e2926"
      },
      "source": [
        "binom.pmf(k=x, n = n, p = p)"
      ],
      "execution_count": null,
      "outputs": [
        {
          "output_type": "execute_result",
          "data": {
            "text/plain": [
              "0.06584063715436414"
            ]
          },
          "metadata": {},
          "execution_count": 33
        }
      ]
    },
    {
      "cell_type": "markdown",
      "metadata": {
        "id": "_9O0cHM0pSdN"
      },
      "source": [
        "- Uma empresa envia email marketing para 70 clientes, a chance de 1 cliente acessar o link é de 2%. Qual a probabilidade de 4 clientes acessarem o link dos email`s?"
      ]
    },
    {
      "cell_type": "code",
      "metadata": {
        "id": "VzOukf7epSiv"
      },
      "source": [
        "# problema 2\n",
        "n = 70\n",
        "p = 0.02\n",
        "x = 4"
      ],
      "execution_count": null,
      "outputs": []
    },
    {
      "cell_type": "code",
      "metadata": {
        "colab": {
          "base_uri": "https://localhost:8080/"
        },
        "id": "iWGDjvrKpSm8",
        "outputId": "95cffd18-91ef-4770-89f5-b529d9bcc210"
      },
      "source": [
        "binom.pmf(k=x, n = n, p = p)"
      ],
      "execution_count": null,
      "outputs": [
        {
          "output_type": "execute_result",
          "data": {
            "text/plain": [
              "0.0386687900176071"
            ]
          },
          "metadata": {},
          "execution_count": 35
        }
      ]
    },
    {
      "cell_type": "markdown",
      "metadata": {
        "id": "9_eQE6mdpSq8"
      },
      "source": [
        "- A chance de acidente mensal em uma fábrica com 200 funcionários é de 3%, qual a probabilidade de 7 a 10 funcionários sofrerem acidente este mês?"
      ]
    },
    {
      "cell_type": "code",
      "metadata": {
        "id": "SAJgIA4V58Jx"
      },
      "source": [
        "# problema 3\n",
        "n = 200\n",
        "p = 0.03\n",
        "x = [7, 8, 9, 10]"
      ],
      "execution_count": null,
      "outputs": []
    },
    {
      "cell_type": "code",
      "metadata": {
        "colab": {
          "base_uri": "https://localhost:8080/"
        },
        "id": "qWKNJCa858PU",
        "outputId": "9d4c2c3a-748d-4d0f-f4b6-9d2e52e7a883"
      },
      "source": [
        "np.sum(binom.pmf(k=x, n = n, p = p))"
      ],
      "execution_count": null,
      "outputs": [
        {
          "output_type": "execute_result",
          "data": {
            "text/plain": [
              "0.35355705742371435"
            ]
          },
          "metadata": {},
          "execution_count": 38
        }
      ]
    },
    {
      "cell_type": "markdown",
      "metadata": {
        "id": "3n631mG29I37"
      },
      "source": [
        "### Distribuição Poisson"
      ]
    },
    {
      "cell_type": "markdown",
      "metadata": {
        "id": "t854c5bHLYgE"
      },
      "source": [
        "- Obter a média mensal dos dados"
      ]
    },
    {
      "cell_type": "code",
      "metadata": {
        "id": "V6mfLUNVLYk3"
      },
      "source": [
        "media_mensal = np.mean(dados_acidentes_mensal['n'])"
      ],
      "execution_count": null,
      "outputs": []
    },
    {
      "cell_type": "markdown",
      "metadata": {
        "id": "3lqSkI8mLYpG"
      },
      "source": [
        "- Qual a probabilidade de ocorrer 7 acidentes?"
      ]
    },
    {
      "cell_type": "code",
      "metadata": {
        "colab": {
          "base_uri": "https://localhost:8080/"
        },
        "id": "fg7iDdQNLvas",
        "outputId": "e0366a78-6ce7-4107-b3e1-b1c607973baf"
      },
      "source": [
        "poisson.pmf(k = 7, mu=media_mensal)"
      ],
      "execution_count": null,
      "outputs": [
        {
          "output_type": "execute_result",
          "data": {
            "text/plain": [
              "0.13650388195181395"
            ]
          },
          "metadata": {},
          "execution_count": 82
        }
      ]
    },
    {
      "cell_type": "markdown",
      "metadata": {
        "id": "Amomtl5FLvfP"
      },
      "source": [
        "- Qual a probabilidade de ocorrer entre 4 a 6 acidentes?"
      ]
    },
    {
      "cell_type": "code",
      "metadata": {
        "id": "mpYcWYGNLvix"
      },
      "source": [
        "n_acidentes = np.arange(4, 7)"
      ],
      "execution_count": null,
      "outputs": []
    },
    {
      "cell_type": "code",
      "metadata": {
        "colab": {
          "base_uri": "https://localhost:8080/"
        },
        "id": "Quwdkx9gLYsf",
        "outputId": "eea2ffdd-f84e-4e62-eec5-c1f5c0ed8e35"
      },
      "source": [
        "np.sum(poisson.pmf(k = n_acidentes, mu=media_mensal))"
      ],
      "execution_count": null,
      "outputs": [
        {
          "output_type": "execute_result",
          "data": {
            "text/plain": [
              "0.2555945240092576"
            ]
          },
          "metadata": {},
          "execution_count": 84
        }
      ]
    },
    {
      "cell_type": "markdown",
      "metadata": {
        "id": "nn7qrw8PXMfs"
      },
      "source": [
        "## Distribuições contínuas"
      ]
    },
    {
      "cell_type": "markdown",
      "metadata": {
        "id": "x-j7lV41o9eC"
      },
      "source": [
        "### Distribuição exponencial"
      ]
    },
    {
      "cell_type": "markdown",
      "metadata": {
        "id": "I4aViYuNW531"
      },
      "source": [
        "- Imagine que um ser humano possui um tempo médio de vida de 70 anos. Qual a probabilidade de um indivíduo usufruir a aposentadoria por mais de 15 anos, assumindo que o mesmo aposentou aos 65 anos?"
      ]
    },
    {
      "cell_type": "code",
      "metadata": {
        "id": "xFzgFXeGWgZe"
      },
      "source": [
        "# problema 1\n",
        "aposentadoria = 65\n",
        "x = aposentadoria+15\n",
        "tempo_medio_vida = 70"
      ],
      "execution_count": null,
      "outputs": []
    },
    {
      "cell_type": "code",
      "metadata": {
        "colab": {
          "base_uri": "https://localhost:8080/"
        },
        "id": "mxwGVOVHWgde",
        "outputId": "2ab5338f-5c08-4990-e3fe-416814ca7ca4"
      },
      "source": [
        "1 - expon.cdf(x = x, scale = tempo_medio_vida)"
      ],
      "execution_count": null,
      "outputs": [
        {
          "output_type": "execute_result",
          "data": {
            "text/plain": [
              "0.31890655732397044"
            ]
          },
          "metadata": {},
          "execution_count": 157
        }
      ]
    },
    {
      "cell_type": "markdown",
      "metadata": {
        "id": "UBcclpu7Xn82"
      },
      "source": [
        "- Uma pessoa comprou um celular e espera utilizá-lo por mais de 3 anos. Qual a probabilidade de atingir este objetivo assumindo que o tempo médio de vida deste aparelho é de 2 anos?"
      ]
    },
    {
      "cell_type": "code",
      "metadata": {
        "id": "BbvOjqhEXoBl"
      },
      "source": [
        "# problema 2\n",
        "x = 3\n",
        "tempo_medio_vida = 2"
      ],
      "execution_count": null,
      "outputs": []
    },
    {
      "cell_type": "code",
      "metadata": {
        "colab": {
          "base_uri": "https://localhost:8080/"
        },
        "id": "TVS6RubBXoE9",
        "outputId": "b21bc659-5832-4e86-e1ea-abe267c3517f"
      },
      "source": [
        "1 - expon.cdf(x = x, scale = tempo_medio_vida)"
      ],
      "execution_count": null,
      "outputs": [
        {
          "output_type": "execute_result",
          "data": {
            "text/plain": [
              "0.2231301601484298"
            ]
          },
          "metadata": {},
          "execution_count": 159
        }
      ]
    },
    {
      "cell_type": "markdown",
      "metadata": {
        "id": "gj6NcVeYX_ev"
      },
      "source": [
        "- Assumindo que o tempo médio de vida de um fone de ouvido seja de 1 ano. Qual a probabilidade de um indivíduo conseguir utilizá-lo entre 3 a 5 anos?"
      ]
    },
    {
      "cell_type": "code",
      "metadata": {
        "id": "b5AQrQmVX_je"
      },
      "source": [
        "# problema 3\n",
        "tempo_medio_vida = 1\n",
        "x_3anos = 3\n",
        "x_5anos = 5"
      ],
      "execution_count": null,
      "outputs": []
    },
    {
      "cell_type": "code",
      "metadata": {
        "colab": {
          "base_uri": "https://localhost:8080/"
        },
        "id": "tvw_V4gSX_nN",
        "outputId": "ce864820-5bb6-4dad-e557-3c6c6a053c3c"
      },
      "source": [
        "expon.cdf(x = x_5anos, scale = tempo_medio_vida) - expon.cdf(x = x_3anos, scale = tempo_medio_vida)"
      ],
      "execution_count": null,
      "outputs": [
        {
          "output_type": "execute_result",
          "data": {
            "text/plain": [
              "0.043049121368778476"
            ]
          },
          "metadata": {},
          "execution_count": 164
        }
      ]
    },
    {
      "cell_type": "markdown",
      "metadata": {
        "id": "wKY23UOOXMqs"
      },
      "source": [
        "### Distribuição normal"
      ]
    },
    {
      "cell_type": "markdown",
      "metadata": {
        "id": "p0r2au8eb3c7"
      },
      "source": [
        "- Qual a média mensal de vendas de vinhos nacional?"
      ]
    },
    {
      "cell_type": "code",
      "metadata": {
        "colab": {
          "base_uri": "https://localhost:8080/"
        },
        "id": "nxQTQ-oqb3g9",
        "outputId": "58e05727-bcc3-4e26-8983-c08fd2630a86"
      },
      "source": [
        "media_mensal_vinho = np.mean(dados_vinho['vendas_vinho_nacional'])\n",
        "media_mensal_vinho"
      ],
      "execution_count": null,
      "outputs": [
        {
          "output_type": "execute_result",
          "data": {
            "text/plain": [
              "339.05"
            ]
          },
          "metadata": {},
          "execution_count": 40
        }
      ]
    },
    {
      "cell_type": "markdown",
      "metadata": {
        "id": "JnV80Ck6drg_"
      },
      "source": [
        "-\tQual o desvio padrão de vendas de vinhos nacional?"
      ]
    },
    {
      "cell_type": "code",
      "metadata": {
        "colab": {
          "base_uri": "https://localhost:8080/"
        },
        "id": "RrW8-PpMdrll",
        "outputId": "f0b0054a-965d-474a-867e-0c2188a5b862"
      },
      "source": [
        "dp_mensal_vinho = np.std(dados_vinho['vendas_vinho_nacional'])\n",
        "dp_mensal_vinho"
      ],
      "execution_count": null,
      "outputs": [
        {
          "output_type": "execute_result",
          "data": {
            "text/plain": [
              "7.116705698565875"
            ]
          },
          "metadata": {},
          "execution_count": 41
        }
      ]
    },
    {
      "cell_type": "markdown",
      "metadata": {
        "id": "GyQlhlxdb3k9"
      },
      "source": [
        "-\tQual a probabilidade da empresa vender entre 330 e 370 garrafas de vinho nacional?"
      ]
    },
    {
      "cell_type": "code",
      "metadata": {
        "id": "qMwmRmiudz-1"
      },
      "source": [
        "p_330 = norm.cdf(x = 330, loc = media_mensal_vinho, scale = dp_mensal_vinho)"
      ],
      "execution_count": null,
      "outputs": []
    },
    {
      "cell_type": "code",
      "metadata": {
        "id": "QqnGRgfsd0Il"
      },
      "source": [
        "p_370 = norm.cdf(x = 370, loc = media_mensal_vinho, scale = dp_mensal_vinho)"
      ],
      "execution_count": null,
      "outputs": []
    },
    {
      "cell_type": "code",
      "metadata": {
        "colab": {
          "base_uri": "https://localhost:8080/"
        },
        "id": "EBa0v0Nvb3pE",
        "outputId": "e62cced1-8f6a-464b-af9a-fe5f42d954c9"
      },
      "source": [
        "p_370 - p_330"
      ],
      "execution_count": null,
      "outputs": [
        {
          "output_type": "execute_result",
          "data": {
            "text/plain": [
              "0.8982454369037137"
            ]
          },
          "metadata": {},
          "execution_count": 44
        }
      ]
    },
    {
      "cell_type": "markdown",
      "metadata": {
        "id": "_-HpXJC8d8KW"
      },
      "source": [
        "-\tO Marketing definiu uma meta de vendas para o mês de 370 garrafas de vinho nacional. Qual a probabilidade desta meta ser superada?"
      ]
    },
    {
      "cell_type": "code",
      "metadata": {
        "id": "yyPu3smCd8PF"
      },
      "source": [
        "p_370 = norm.cdf(x = 370, loc = media_mensal_vinho, scale = dp_mensal_vinho)"
      ],
      "execution_count": null,
      "outputs": []
    },
    {
      "cell_type": "code",
      "metadata": {
        "colab": {
          "base_uri": "https://localhost:8080/"
        },
        "id": "tQHIOaIrd8TP",
        "outputId": "a83ebae5-f12c-4a2c-ac25-7d028a181743"
      },
      "source": [
        "1 - p_370"
      ],
      "execution_count": null,
      "outputs": [
        {
          "output_type": "execute_result",
          "data": {
            "text/plain": [
              "6.840408958486144e-06"
            ]
          },
          "metadata": {},
          "execution_count": 46
        }
      ]
    },
    {
      "cell_type": "code",
      "metadata": {
        "id": "EJLfRjB_d8Vs"
      },
      "source": [
        ""
      ],
      "execution_count": null,
      "outputs": []
    }
  ]
}